{
 "cells": [
  {
   "cell_type": "markdown",
   "metadata": {},
   "source": [
    "# K-Nearest Neighbors Implementation From Scratch in Python"
   ]
  },
  {
   "cell_type": "code",
   "execution_count": 10,
   "metadata": {},
   "outputs": [],
   "source": [
    "# load libaries\n",
    "import numpy as np\n",
    "import math"
   ]
  },
  {
   "cell_type": "code",
   "execution_count": 11,
   "metadata": {},
   "outputs": [],
   "source": [
    "class KNearestNeighbors:\n",
    "\n",
    "\t# Inititalize Number of Nearest Neighbor\n",
    "\tdef __init__(self, k=1):\n",
    "\t\tself.k = k\n",
    "\n",
    "\t# Find euclidean distance between two vectors\n",
    "\tdef euclidean_distance(self,feature,target):\n",
    "\t\tlength = len(target)\n",
    "\t\tdistance = 0\n",
    "\t\tfor i in range(0,length):\n",
    "\t\t\tdistance += pow( (feature[i] - target[i]),2)\n",
    "\t\treturn math.sqrt(distance)\n",
    "\n",
    "\t\"\"\"This algorithm is consider as Lazy algorithm because no training step needed\n",
    "\tin this algorithm so this fit method just setup featuers and classes to process in predict method.\n",
    "\t\n",
    "\t\"\"\"\n",
    "\n",
    "\tdef fit(self,features,classes):\n",
    "\t\tself.features = features\n",
    "\t\tself.classes = classes\n",
    "\n",
    "\n",
    "\t\"\"\"\n",
    "\tFind class of the target value\n",
    "\t\"\"\"\n",
    "\tdef predict(self,target):\n",
    "\n",
    "\t\tfrom collections import Counter\n",
    "\n",
    "\t\teu_distances = []\n",
    "\n",
    "\t\tk = self.k\n",
    "\t\tfeatures = self.features\n",
    "\t\tclasses = self.classes\n",
    "\n",
    "\t\tfor i,element in enumerate(features):\n",
    "\n",
    "\t\t\t# Calculate Euclidean Distance\n",
    "\t\t\teu_distance = self.euclidean_distance(element,target)\n",
    "\t\t\t\n",
    "\t\t\teu_distances.append( (element,eu_distance,classes[i]) )\n",
    "\n",
    "\t\t\"\"\" \n",
    "\t\teu_distances is a list of touple consist of Element, Euclidean Distance from target and it's class\n",
    "\t\t\"\"\"\n",
    "\n",
    "\t\t# first sort eu_distances by calculted Euclidean Distance\n",
    "\t\teu_distances.sort(key=lambda x:x[1])\n",
    "\n",
    "\t\t# then get first k elements\n",
    "\t\tk_sortest = eu_distances[:k]\n",
    "\n",
    "\t\tclasses = []\n",
    "\n",
    "\t\tfor element in k_sortest:\n",
    "\t\t\tclasses.append(element[2])\n",
    "\n",
    "\t\t# Find number of occurance for each class\t\n",
    "\t\toccurance = Counter(classes)\n",
    "\n",
    "\t\t# Pick most occured class or we can say that this class is mosted voted by nearest neighbor\n",
    "\t\tmost_voted = occurance.most_common(1)\n",
    "\t\t\n",
    "\t\treturn most_voted[0][0]"
   ]
  },
  {
   "cell_type": "markdown",
   "metadata": {},
   "source": [
    "## How to Use"
   ]
  },
  {
   "cell_type": "code",
   "execution_count": 12,
   "metadata": {},
   "outputs": [],
   "source": [
    "# Features\n",
    "number_classes = np.array([\n",
    "\n",
    "\t[1,3,'red'],\n",
    "\t[2,4,'red'],\n",
    "\t[2,1,'red'],\n",
    "\t[3,1,'red'],\n",
    "\t[3,3,'red'],\n",
    "\t[4,2,'green'],\n",
    "\t[5,3,'green'],\n",
    "\t[4,4,'green'],\n",
    "\t[5,1,'green'],\n",
    "\t\n",
    "\t])"
   ]
  },
  {
   "cell_type": "code",
   "execution_count": 13,
   "metadata": {},
   "outputs": [],
   "source": [
    "# Features\n",
    "features = number_classes[:,0:2].astype(float)\n",
    "\n",
    "# Classes\n",
    "classes = number_classes[:,2]\n",
    "\n",
    "# Target - What is color if number are 3.5 and 3?\n",
    "target = [3.5,3]"
   ]
  },
  {
   "cell_type": "code",
   "execution_count": 14,
   "metadata": {},
   "outputs": [],
   "source": [
    "# Setup KNearestNeighbors Model\n",
    "model = KNearestNeighbors(k=3)"
   ]
  },
  {
   "cell_type": "code",
   "execution_count": 15,
   "metadata": {},
   "outputs": [],
   "source": [
    "# Train the Model\n",
    "model.fit(features,classes)"
   ]
  },
  {
   "cell_type": "code",
   "execution_count": 16,
   "metadata": {},
   "outputs": [],
   "source": [
    "# Output\n",
    "prediction = model.predict(target)\n"
   ]
  },
  {
   "cell_type": "code",
   "execution_count": 17,
   "metadata": {},
   "outputs": [
    {
     "name": "stdout",
     "output_type": "stream",
     "text": [
      "Numbers [3.5, 3] are green\n"
     ]
    }
   ],
   "source": [
    "print(\"Numbers %s are %s\" %(target,prediction))"
   ]
  },
  {
   "cell_type": "code",
   "execution_count": null,
   "metadata": {},
   "outputs": [],
   "source": []
  }
 ],
 "metadata": {
  "kernelspec": {
   "display_name": "Python 3",
   "language": "python",
   "name": "python3"
  },
  "language_info": {
   "codemirror_mode": {
    "name": "ipython",
    "version": 3
   },
   "file_extension": ".py",
   "mimetype": "text/x-python",
   "name": "python",
   "nbconvert_exporter": "python",
   "pygments_lexer": "ipython3",
   "version": "3.6.7"
  }
 },
 "nbformat": 4,
 "nbformat_minor": 2
}
